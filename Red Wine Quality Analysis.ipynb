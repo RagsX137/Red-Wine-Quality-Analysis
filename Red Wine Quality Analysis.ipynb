{
 "cells": [
  {
   "cell_type": "markdown",
   "metadata": {},
   "source": [
    "# Analysis of Red Wine Quality"
   ]
  },
  {
   "cell_type": "markdown",
   "metadata": {},
   "source": [
    "# Index\n",
    "## 1. Reading the data and importing the libraries\n",
    "## 2. EDA\n",
    "## 3. Correlation Matrix \n",
    "## 4. Modeling \n",
    "    -  Linear Model\n",
    "    -  Weighted KNN\n",
    "    -  Random Forest\n",
    "    -  Conditional Inference Random Forest\n",
    "    -  Decision Tree Model\n",
    "## 5. Modeling Results Table\n",
    "## 6. Conclusion"
   ]
  },
  {
   "cell_type": "markdown",
   "metadata": {},
   "source": [
    "## 1. Reading the data and importing the libraries"
   ]
  },
  {
   "cell_type": "code",
   "execution_count": null,
   "metadata": {
    "collapsed": false,
    "scrolled": true
   },
   "outputs": [],
   "source": [
    "library(tidyverse)\n",
    "library(grid)\n",
    "library(gridExtra)\n",
    "library(e1071)\n",
    "library(caret)"
   ]
  },
  {
   "cell_type": "code",
   "execution_count": 2,
   "metadata": {
    "collapsed": false
   },
   "outputs": [],
   "source": [
    "df1 <- read.csv(\"C:/Users/kausha2/Documents/Data Analytics/DataSets/winequality/winequality/winequality-red.csv\", sep = \";\")"
   ]
  },
  {
   "cell_type": "code",
   "execution_count": 3,
   "metadata": {
    "collapsed": false
   },
   "outputs": [
    {
     "data": {
      "text/html": [
       "<table>\n",
       "<thead><tr><th></th><th scope=col>fixed.acidity</th><th scope=col>volatile.acidity</th><th scope=col>citric.acid</th><th scope=col>residual.sugar</th><th scope=col>chlorides</th><th scope=col>free.sulfur.dioxide</th><th scope=col>total.sulfur.dioxide</th><th scope=col>density</th><th scope=col>pH</th><th scope=col>sulphates</th><th scope=col>alcohol</th><th scope=col>quality</th></tr></thead>\n",
       "<tbody>\n",
       "\t<tr><th scope=row>1</th><td> 7.4000</td><td> 0.7000</td><td> 0.0000</td><td> 1.9000</td><td> 0.0760</td><td>11.0000</td><td>34.0000</td><td> 0.9978</td><td> 3.5100</td><td> 0.5600</td><td> 9.4000</td><td> 5.0000</td></tr>\n",
       "\t<tr><th scope=row>2</th><td> 7.8000</td><td> 0.8800</td><td> 0.0000</td><td> 2.6000</td><td> 0.0980</td><td>25.0000</td><td>67.0000</td><td> 0.9968</td><td> 3.2000</td><td> 0.6800</td><td> 9.8000</td><td> 5.0000</td></tr>\n",
       "\t<tr><th scope=row>3</th><td> 7.800</td><td> 0.760</td><td> 0.040</td><td> 2.300</td><td> 0.092</td><td>15.000</td><td>54.000</td><td> 0.997</td><td> 3.260</td><td> 0.650</td><td> 9.800</td><td> 5.000</td></tr>\n",
       "\t<tr><th scope=row>4</th><td>11.200</td><td> 0.280</td><td> 0.560</td><td> 1.900</td><td> 0.075</td><td>17.000</td><td>60.000</td><td> 0.998</td><td> 3.160</td><td> 0.580</td><td> 9.800</td><td> 6.000</td></tr>\n",
       "\t<tr><th scope=row>5</th><td> 7.4000</td><td> 0.7000</td><td> 0.0000</td><td> 1.9000</td><td> 0.0760</td><td>11.0000</td><td>34.0000</td><td> 0.9978</td><td> 3.5100</td><td> 0.5600</td><td> 9.4000</td><td> 5.0000</td></tr>\n",
       "\t<tr><th scope=row>6</th><td> 7.4000</td><td> 0.6600</td><td> 0.0000</td><td> 1.8000</td><td> 0.0750</td><td>13.0000</td><td>40.0000</td><td> 0.9978</td><td> 3.5100</td><td> 0.5600</td><td> 9.4000</td><td> 5.0000</td></tr>\n",
       "</tbody>\n",
       "</table>\n"
      ],
      "text/latex": [
       "\\begin{tabular}{r|llllllllllll}\n",
       "  & fixed.acidity & volatile.acidity & citric.acid & residual.sugar & chlorides & free.sulfur.dioxide & total.sulfur.dioxide & density & pH & sulphates & alcohol & quality\\\\\n",
       "\\hline\n",
       "\t1 &  7.4000 &  0.7000 &  0.0000 &  1.9000 &  0.0760 & 11.0000 & 34.0000 &  0.9978 &  3.5100 &  0.5600 &  9.4000 &  5.0000\\\\\n",
       "\t2 &  7.8000 &  0.8800 &  0.0000 &  2.6000 &  0.0980 & 25.0000 & 67.0000 &  0.9968 &  3.2000 &  0.6800 &  9.8000 &  5.0000\\\\\n",
       "\t3 &  7.800 &  0.760 &  0.040 &  2.300 &  0.092 & 15.000 & 54.000 &  0.997 &  3.260 &  0.650 &  9.800 &  5.000\\\\\n",
       "\t4 & 11.200 &  0.280 &  0.560 &  1.900 &  0.075 & 17.000 & 60.000 &  0.998 &  3.160 &  0.580 &  9.800 &  6.000\\\\\n",
       "\t5 &  7.4000 &  0.7000 &  0.0000 &  1.9000 &  0.0760 & 11.0000 & 34.0000 &  0.9978 &  3.5100 &  0.5600 &  9.4000 &  5.0000\\\\\n",
       "\t6 &  7.4000 &  0.6600 &  0.0000 &  1.8000 &  0.0750 & 13.0000 & 40.0000 &  0.9978 &  3.5100 &  0.5600 &  9.4000 &  5.0000\\\\\n",
       "\\end{tabular}\n"
      ],
      "text/plain": [
       "  fixed.acidity volatile.acidity citric.acid residual.sugar chlorides\n",
       "1           7.4             0.70        0.00            1.9     0.076\n",
       "2           7.8             0.88        0.00            2.6     0.098\n",
       "3           7.8             0.76        0.04            2.3     0.092\n",
       "4          11.2             0.28        0.56            1.9     0.075\n",
       "5           7.4             0.70        0.00            1.9     0.076\n",
       "6           7.4             0.66        0.00            1.8     0.075\n",
       "  free.sulfur.dioxide total.sulfur.dioxide density   pH sulphates alcohol\n",
       "1                  11                   34  0.9978 3.51      0.56     9.4\n",
       "2                  25                   67  0.9968 3.20      0.68     9.8\n",
       "3                  15                   54  0.9970 3.26      0.65     9.8\n",
       "4                  17                   60  0.9980 3.16      0.58     9.8\n",
       "5                  11                   34  0.9978 3.51      0.56     9.4\n",
       "6                  13                   40  0.9978 3.51      0.56     9.4\n",
       "  quality\n",
       "1       5\n",
       "2       5\n",
       "3       5\n",
       "4       6\n",
       "5       5\n",
       "6       5"
      ]
     },
     "metadata": {},
     "output_type": "display_data"
    }
   ],
   "source": [
    "head(df1)"
   ]
  },
  {
   "cell_type": "code",
   "execution_count": 4,
   "metadata": {
    "collapsed": false
   },
   "outputs": [
    {
     "data": {
      "text/plain": [
       "   Min. 1st Qu.  Median    Mean 3rd Qu.    Max. \n",
       "  3.000   5.000   6.000   5.636   6.000   8.000 "
      ]
     },
     "metadata": {},
     "output_type": "display_data"
    }
   ],
   "source": [
    "summary(df1$quality)"
   ]
  },
  {
   "cell_type": "markdown",
   "metadata": {},
   "source": [
    "### Creating a new variable -->  WineAttribute : Good (1) or bad (0) for binary classification"
   ]
  },
  {
   "cell_type": "code",
   "execution_count": 5,
   "metadata": {
    "collapsed": true
   },
   "outputs": [],
   "source": [
    "df1$wine_attribute <- ifelse(df1$quality > 5, 1, 0 )"
   ]
  },
  {
   "cell_type": "code",
   "execution_count": 6,
   "metadata": {
    "collapsed": false
   },
   "outputs": [
    {
     "data": {
      "text/html": [
       "<table>\n",
       "<thead><tr><th></th><th scope=col>fixed.acidity</th><th scope=col>volatile.acidity</th><th scope=col>citric.acid</th><th scope=col>residual.sugar</th><th scope=col>chlorides</th><th scope=col>free.sulfur.dioxide</th><th scope=col>total.sulfur.dioxide</th><th scope=col>density</th><th scope=col>pH</th><th scope=col>sulphates</th><th scope=col>alcohol</th><th scope=col>quality</th><th scope=col>wine_attribute</th></tr></thead>\n",
       "<tbody>\n",
       "\t<tr><th scope=row>1</th><td> 7.4000</td><td> 0.7000</td><td> 0.0000</td><td> 1.9000</td><td> 0.0760</td><td>11.0000</td><td>34.0000</td><td> 0.9978</td><td> 3.5100</td><td> 0.5600</td><td> 9.4000</td><td> 5.0000</td><td> 0.0000</td></tr>\n",
       "\t<tr><th scope=row>2</th><td> 7.8000</td><td> 0.8800</td><td> 0.0000</td><td> 2.6000</td><td> 0.0980</td><td>25.0000</td><td>67.0000</td><td> 0.9968</td><td> 3.2000</td><td> 0.6800</td><td> 9.8000</td><td> 5.0000</td><td> 0.0000</td></tr>\n",
       "\t<tr><th scope=row>3</th><td> 7.800</td><td> 0.760</td><td> 0.040</td><td> 2.300</td><td> 0.092</td><td>15.000</td><td>54.000</td><td> 0.997</td><td> 3.260</td><td> 0.650</td><td> 9.800</td><td> 5.000</td><td> 0.000</td></tr>\n",
       "\t<tr><th scope=row>4</th><td>11.200</td><td> 0.280</td><td> 0.560</td><td> 1.900</td><td> 0.075</td><td>17.000</td><td>60.000</td><td> 0.998</td><td> 3.160</td><td> 0.580</td><td> 9.800</td><td> 6.000</td><td> 1.000</td></tr>\n",
       "\t<tr><th scope=row>5</th><td> 7.4000</td><td> 0.7000</td><td> 0.0000</td><td> 1.9000</td><td> 0.0760</td><td>11.0000</td><td>34.0000</td><td> 0.9978</td><td> 3.5100</td><td> 0.5600</td><td> 9.4000</td><td> 5.0000</td><td> 0.0000</td></tr>\n",
       "\t<tr><th scope=row>6</th><td> 7.4000</td><td> 0.6600</td><td> 0.0000</td><td> 1.8000</td><td> 0.0750</td><td>13.0000</td><td>40.0000</td><td> 0.9978</td><td> 3.5100</td><td> 0.5600</td><td> 9.4000</td><td> 5.0000</td><td> 0.0000</td></tr>\n",
       "</tbody>\n",
       "</table>\n"
      ],
      "text/latex": [
       "\\begin{tabular}{r|lllllllllllll}\n",
       "  & fixed.acidity & volatile.acidity & citric.acid & residual.sugar & chlorides & free.sulfur.dioxide & total.sulfur.dioxide & density & pH & sulphates & alcohol & quality & wine\\_attribute\\\\\n",
       "\\hline\n",
       "\t1 &  7.4000 &  0.7000 &  0.0000 &  1.9000 &  0.0760 & 11.0000 & 34.0000 &  0.9978 &  3.5100 &  0.5600 &  9.4000 &  5.0000 &  0.0000\\\\\n",
       "\t2 &  7.8000 &  0.8800 &  0.0000 &  2.6000 &  0.0980 & 25.0000 & 67.0000 &  0.9968 &  3.2000 &  0.6800 &  9.8000 &  5.0000 &  0.0000\\\\\n",
       "\t3 &  7.800 &  0.760 &  0.040 &  2.300 &  0.092 & 15.000 & 54.000 &  0.997 &  3.260 &  0.650 &  9.800 &  5.000 &  0.000\\\\\n",
       "\t4 & 11.200 &  0.280 &  0.560 &  1.900 &  0.075 & 17.000 & 60.000 &  0.998 &  3.160 &  0.580 &  9.800 &  6.000 &  1.000\\\\\n",
       "\t5 &  7.4000 &  0.7000 &  0.0000 &  1.9000 &  0.0760 & 11.0000 & 34.0000 &  0.9978 &  3.5100 &  0.5600 &  9.4000 &  5.0000 &  0.0000\\\\\n",
       "\t6 &  7.4000 &  0.6600 &  0.0000 &  1.8000 &  0.0750 & 13.0000 & 40.0000 &  0.9978 &  3.5100 &  0.5600 &  9.4000 &  5.0000 &  0.0000\\\\\n",
       "\\end{tabular}\n"
      ],
      "text/plain": [
       "  fixed.acidity volatile.acidity citric.acid residual.sugar chlorides\n",
       "1           7.4             0.70        0.00            1.9     0.076\n",
       "2           7.8             0.88        0.00            2.6     0.098\n",
       "3           7.8             0.76        0.04            2.3     0.092\n",
       "4          11.2             0.28        0.56            1.9     0.075\n",
       "5           7.4             0.70        0.00            1.9     0.076\n",
       "6           7.4             0.66        0.00            1.8     0.075\n",
       "  free.sulfur.dioxide total.sulfur.dioxide density   pH sulphates alcohol\n",
       "1                  11                   34  0.9978 3.51      0.56     9.4\n",
       "2                  25                   67  0.9968 3.20      0.68     9.8\n",
       "3                  15                   54  0.9970 3.26      0.65     9.8\n",
       "4                  17                   60  0.9980 3.16      0.58     9.8\n",
       "5                  11                   34  0.9978 3.51      0.56     9.4\n",
       "6                  13                   40  0.9978 3.51      0.56     9.4\n",
       "  quality wine_attribute\n",
       "1       5              0\n",
       "2       5              0\n",
       "3       5              0\n",
       "4       6              1\n",
       "5       5              0\n",
       "6       5              0"
      ]
     },
     "metadata": {},
     "output_type": "display_data"
    }
   ],
   "source": [
    "head(df1)"
   ]
  },
  {
   "cell_type": "markdown",
   "metadata": {},
   "source": [
    "## 2. EDA"
   ]
  },
  {
   "cell_type": "markdown",
   "metadata": {},
   "source": [
    "#### How is the wine quality distributed?"
   ]
  },
  {
   "cell_type": "code",
   "execution_count": 7,
   "metadata": {
    "collapsed": false
   },
   "outputs": [
    {
     "data": {},
     "metadata": {},
     "output_type": "display_data"
    },
    {
     "data": {
      "image/png": "[encoded data removed]",
      "text/plain": [
       "plot without title"
      ]
     },
     "metadata": {},
     "output_type": "display_data"
    }
   ],
   "source": [
    "qplot(df1$quality, geom=\"histogram\", binwidth = 1)"
   ]
  },
  {
   "cell_type": "markdown",
   "metadata": {},
   "source": [
    "- The dataset is dominated by values 5 and 6. There are less wines with a quality of 4 and 7 whereas there are hardly any wines that have values less 3 and 8\n",
    "- there are two options : either split the quality variable into 3 parts by quantiles : top 20, middle 60 and bottom 20 or split based on the mean i.e. Good wines are those which have values >5 and bad wines are those with values less or equal to 5"
   ]
  },
  {
   "cell_type": "markdown",
   "metadata": {},
   "source": [
    "#### Looking at the different histograms to check the shape of the distributions"
   ]
  },
  {
   "cell_type": "code",
   "execution_count": 8,
   "metadata": {
    "collapsed": false
   },
   "outputs": [
    {
     "data": {
      "image/png": "[encoded data removed]",
      "text/plain": [
       "plot without title"
      ]
     },
     "metadata": {},
     "output_type": "display_data"
    }
   ],
   "source": [
    "p1 <- qplot(df1$pH, geom=\"histogram\", binwidth = 0.05) \n",
    "p2 <- qplot(df1$alcohol, geom=\"histogram\",binwidth = 0.099) \n",
    "p3 <- qplot(df1$volatile.acidity, geom=\"histogram\",binwidth = 0.05) \n",
    "p4 <- qplot(df1$citric.acid, geom=\"histogram\",binwidth = 0.05)\n",
    "grid.arrange(p1,p2,p3,p4, ncol=2, nrow=2)"
   ]
  },
  {
   "cell_type": "markdown",
   "metadata": {},
   "source": [
    "- We see that pH looks normally distributed \n",
    "- Volatile acidity, Alcohol and citric acid have a positive skew shape but dont seem to follow a particular distribution"
   ]
  },
  {
   "cell_type": "code",
   "execution_count": 9,
   "metadata": {
    "collapsed": false
   },
   "outputs": [
    {
     "data": {
      "image/png": "[encoded data removed]",
      "text/plain": [
       "plot without title"
      ]
     },
     "metadata": {},
     "output_type": "display_data"
    }
   ],
   "source": [
    "p1 <- qplot(df1$residual.sugar, geom=\"histogram\", binwidth = 0.1) \n",
    "p2 <- qplot(df1$chlorides, geom=\"histogram\",binwidth = 0.01) \n",
    "p3 <- qplot(df1$density, geom=\"histogram\",binwidth = 0.001) \n",
    "p4 <- qplot(df1$free.sulfur.dioxide, geom=\"histogram\",binwidth = 1)\n",
    "grid.arrange(p1,p2,p3,p4, ncol=2, nrow=2)"
   ]
  },
  {
   "cell_type": "markdown",
   "metadata": {},
   "source": [
    "- Density seems to follow a normal distribution. \n",
    "- Residual sugar and chlorides seem to follow a normal distribution initially but flatten out later\n",
    "- Free sulfur dioxide content seems to have a positive skew shaped distribution"
   ]
  },
  {
   "cell_type": "code",
   "execution_count": 10,
   "metadata": {
    "collapsed": false
   },
   "outputs": [
    {
     "data": {
      "image/png": "[encoded data removed]",
      "text/plain": [
       "plot without title"
      ]
     },
     "metadata": {},
     "output_type": "display_data"
    }
   ],
   "source": [
    "p1 <- qplot(df1$pH, geom=\"density\") \n",
    "p2 <- qplot(df1$alcohol, geom=\"density\") \n",
    "p3 <- qplot(df1$volatile.acidity, geom=\"density\") \n",
    "p4 <- qplot(df1$citric.acid, geom=\"density\")\n",
    "grid.arrange(p1,p2,p3,p4, ncol=2, nrow=2)"
   ]
  },
  {
   "cell_type": "code",
   "execution_count": 11,
   "metadata": {
    "collapsed": false
   },
   "outputs": [
    {
     "data": {
      "image/png": "[encoded data removed]",
      "text/plain": [
       "plot without title"
      ]
     },
     "metadata": {},
     "output_type": "display_data"
    }
   ],
   "source": [
    "p1 <- qplot(df1$residual.sugar, geom=\"density\") \n",
    "p2 <- qplot(df1$chlorides, geom=\"density\") \n",
    "p3 <- qplot(df1$density, geom=\"density\") \n",
    "p4 <- qplot(df1$free.sulfur.dioxide, geom=\"density\")\n",
    "grid.arrange(p1,p2,p3,p4, ncol=2, nrow=2)"
   ]
  },
  {
   "cell_type": "markdown",
   "metadata": {},
   "source": [
    "- The kernel density plots seem to agree with the histograms and our conclusions"
   ]
  },
  {
   "cell_type": "code",
   "execution_count": 12,
   "metadata": {
    "collapsed": false
   },
   "outputs": [
    {
     "data": {
      "image/png": "[encoded data removed]",
      "text/plain": [
       "plot without title"
      ]
     },
     "metadata": {},
     "output_type": "display_data"
    }
   ],
   "source": [
    "p1 <- ggplot(df1, aes(x=\"pH\", y=pH)) + stat_boxplot(geom ='errorbar') + geom_boxplot()\n",
    "p2 <- ggplot(df1, aes(x=\"alcohol\", y=alcohol)) + stat_boxplot(geom ='errorbar') + geom_boxplot()\n",
    "p3 <- ggplot(df1, aes(x=\"volatile.acidity\", y=volatile.acidity)) + stat_boxplot(geom ='errorbar') + geom_boxplot()\n",
    "p4 <- ggplot(df1, aes(x=\"citric.acid\", y=citric.acid)) + stat_boxplot(geom ='errorbar') + geom_boxplot()\n",
    "grid.arrange(p1,p2,p3,p4, ncol=2, nrow=2)"
   ]
  },
  {
   "cell_type": "markdown",
   "metadata": {},
   "source": [
    "- pH and acidity seem to have a lot of outliers.\n",
    "- The pH of an acidic substance is usally below 5 but for wines it seems to concentrate in the area between 2.7 and 4.0.\n",
    "- The alcohol content is between 8.4 to 15 but there seem to be many outliers. The Age of the wine also affects its alcohol content. This could explain the outliers but since we don't have an age variable there is no way to check it."
   ]
  },
  {
   "cell_type": "markdown",
   "metadata": {},
   "source": [
    "## 3. Correlation Matrix\n",
    "### Checking the Correlation between variables\n",
    " (sourced from : http://www.sthda.com/english/wiki/ggplot2-quick-correlation-matrix-heatmap-r-software-and-data-visualization)"
   ]
  },
  {
   "cell_type": "code",
   "execution_count": 13,
   "metadata": {
    "collapsed": false
   },
   "outputs": [
    {
     "name": "stderr",
     "output_type": "stream",
     "text": [
      "Warning message:\n",
      "\"package 'reshape2' was built under R version 3.3.2\"\n",
      "Attaching package: 'reshape2'\n",
      "\n",
      "The following object is masked from 'package:tidyr':\n",
      "\n",
      "    smiths\n",
      "\n"
     ]
    },
    {
     "data": {},
     "metadata": {},
     "output_type": "display_data"
    },
    {
     "data": {
      "image/png": "[encoded data removed]",
      "text/plain": [
       "plot without title"
      ]
     },
     "metadata": {},
     "output_type": "display_data"
    }
   ],
   "source": [
    "#data(attitude)\n",
    "df2 <- df1\n",
    "df2$wine_attribute <- NULL\n",
    "\n",
    "library(ggplot2)\n",
    "library(reshape2)\n",
    "\n",
    "\n",
    "#(cor(df1) ) # correlation matrix\n",
    "cormat <- cor(df2)\n",
    "melted_cormat <- melt(cor(df2))\n",
    "\n",
    "#ggplot(data = melted_cormat, aes(x=Var1, y=Var2, fill=value)) + \n",
    " # geom_tile()\n",
    "\n",
    "# Get lower triangle of the correlation matrix\n",
    "  get_lower_tri<-function(cormat){\n",
    "    cormat[upper.tri(cormat)] <- NA\n",
    "    return(cormat)\n",
    "  }\n",
    "  # Get upper triangle of the correlation matrix\n",
    "  get_upper_tri <- function(cormat){\n",
    "    cormat[lower.tri(cormat)]<- NA\n",
    "    return(cormat)\n",
    "  }\n",
    "\n",
    "upper_tri <- get_upper_tri(cormat)\n",
    "#upper_tri\n",
    "\n",
    "# Melt the correlation matrix\n",
    "library(reshape2)\n",
    "melted_cormat <- melt(upper_tri, na.rm = TRUE)\n",
    "# Heatmap\n",
    "\n",
    "\n",
    "reorder_cormat <- function(cormat){\n",
    "# Use correlation between variables as distance\n",
    "dd <- as.dist((1-cormat)/2)\n",
    "hc <- hclust(dd)\n",
    "cormat <-cormat[hc$order, hc$order]\n",
    "}\n",
    "\n",
    "\n",
    "# Reorder the correlation matrix\n",
    "cormat <- reorder_cormat(cormat)\n",
    "upper_tri <- get_upper_tri(cormat)\n",
    "# Melt the correlation matrix\n",
    "melted_cormat <- melt(upper_tri, na.rm = TRUE)\n",
    "# Create a ggheatmap\n",
    "ggheatmap <- ggplot(melted_cormat, aes(Var2, Var1, fill = value))+\n",
    " geom_tile(color = \"white\")+\n",
    " scale_fill_gradient2(low = \"blue\", high = \"red\", mid = \"white\", \n",
    "   midpoint = 0, limit = c(-1,1), space = \"Lab\", \n",
    "    name=\"Pearson\\nCorrelation\") +\n",
    "  theme_minimal()+ # minimal theme\n",
    " theme(axis.text.x = element_text(angle = 45, vjust = 1, \n",
    "    size = 12, hjust = 1))+\n",
    " coord_fixed()\n",
    "# Print the heatmap\n",
    "#print(ggheatmap)\n",
    "\n",
    "ggheatmap + \n",
    "geom_text(aes(Var2, Var1, label = round(value,2) ), color = \"black\", size = 3) +\n",
    "theme(\n",
    "  axis.title.x = element_blank(),\n",
    "  axis.title.y = element_blank(),\n",
    "  panel.grid.major = element_blank(),\n",
    "  panel.border = element_blank(),\n",
    "  panel.background = element_blank(),\n",
    "  axis.ticks = element_blank(),\n",
    "  legend.justification = c(1, 0),\n",
    "  legend.position = c(0.6, 0.7),\n",
    "  legend.direction = \"horizontal\")+\n",
    "  guides(fill = guide_colorbar(barwidth = 7, barheight = 1,\n",
    "                title.position = \"top\", title.hjust = 0.5))"
   ]
  },
  {
   "cell_type": "markdown",
   "metadata": {
    "collapsed": true
   },
   "source": [
    "- The values in Red are positively correlated while those in Blue are negatively correlated. The density of the color determines the strength of correlation.\n",
    "- Quality has a negative correlation with volatile acidity, and total sulfur dioxide content. While it has a positive correlation with alcohol content and citric acid.\n",
    "- It can be seen that pH and fixed acidity have a strong negative correlation, \n",
    "- Residual sugar and sulphates have a very slight positive correlation\n",
    "- Free sulfur dioxide and total sulfur dioxide are strongly positively correlated ( as expected ). But the fixed acidity and volatile acidity are negatively correlated. Interesting fact that could be used for modeling.."
   ]
  },
  {
   "cell_type": "code",
   "execution_count": 14,
   "metadata": {
    "collapsed": false
   },
   "outputs": [
    {
     "data": {
      "image/png": "[encoded data removed]",
      "text/plain": [
       "plot without title"
      ]
     },
     "metadata": {},
     "output_type": "display_data"
    }
   ],
   "source": [
    "p1 <- ggplot(df1, aes(x= volatile.acidity, y= quality)) + geom_point() + geom_smooth(method=lm)\n",
    "p2 <- ggplot(df1, aes(x= total.sulfur.dioxide, y= quality)) + geom_point() + geom_smooth(method=lm)\n",
    "p3 <- ggplot(df1, aes(x= alcohol, y= quality)) + geom_point() + geom_smooth(method=lm)\n",
    "p4 <- ggplot(df1, aes(x= citric.acid, y= quality)) + geom_point() + geom_smooth(method=lm)\n",
    "#p5 <- ggplot(df1, aes(x= sulphates, y= quality)) + geom_point() + geom_smooth(method=lm)\n",
    "\n",
    "grid.arrange(p1,p2,p3,p4, ncol=2, nrow=2)"
   ]
  },
  {
   "cell_type": "markdown",
   "metadata": {},
   "source": [
    "### This confirms our analysis from the correlation matrix"
   ]
  },
  {
   "cell_type": "markdown",
   "metadata": {},
   "source": [
    "## 4. Modeling\n",
    "\n",
    "### We'll be using a 10-fold cross validation\n",
    "\n",
    "We perform the 10 fold CV on the learning dataset and try to predict the valid dataset"
   ]
  },
  {
   "cell_type": "code",
   "execution_count": 15,
   "metadata": {
    "collapsed": true
   },
   "outputs": [],
   "source": [
    "# Train Test Split\n",
    "m <- dim(df1)[1] # Select the rows of iris\n",
    "\n",
    "val <- sample(1:m, size = round(m/3), replace = FALSE, prob = rep(1/m, m)) \n",
    "\n",
    "df1.learn <- df1[-val,] \t# train\n",
    "df1.valid <- df1[val,]\t# test\n",
    "\n",
    "\n",
    "# 10 Fold CV\n",
    "\n",
    "library(caret)\n",
    "\n",
    "# define training control\n",
    "train_control <- trainControl(method=\"cv\", number=10)\n",
    "\n",
    "#trControl <- train_control"
   ]
  },
  {
   "cell_type": "markdown",
   "metadata": {},
   "source": [
    "### The linear model  : trying to predict wine quality from the variables"
   ]
  },
  {
   "cell_type": "code",
   "execution_count": 16,
   "metadata": {
    "collapsed": false
   },
   "outputs": [
    {
     "data": {
      "text/html": [
       "<table>\n",
       "<thead><tr><th></th><th scope=col>fixed.acidity</th><th scope=col>volatile.acidity</th><th scope=col>citric.acid</th><th scope=col>residual.sugar</th><th scope=col>chlorides</th><th scope=col>free.sulfur.dioxide</th><th scope=col>total.sulfur.dioxide</th><th scope=col>density</th><th scope=col>pH</th><th scope=col>sulphates</th><th scope=col>alcohol</th><th scope=col>quality</th><th scope=col>wine_attribute</th></tr></thead>\n",
       "<tbody>\n",
       "\t<tr><th scope=row>1</th><td> 7.4000</td><td> 0.7000</td><td> 0.0000</td><td> 1.9000</td><td> 0.0760</td><td>11.0000</td><td>34.0000</td><td> 0.9978</td><td> 3.5100</td><td> 0.5600</td><td> 9.4000</td><td> 5.0000</td><td> 0.0000</td></tr>\n",
       "</tbody>\n",
       "</table>\n"
      ],
      "text/latex": [
       "\\begin{tabular}{r|lllllllllllll}\n",
       "  & fixed.acidity & volatile.acidity & citric.acid & residual.sugar & chlorides & free.sulfur.dioxide & total.sulfur.dioxide & density & pH & sulphates & alcohol & quality & wine\\_attribute\\\\\n",
       "\\hline\n",
       "\t1 &  7.4000 &  0.7000 &  0.0000 &  1.9000 &  0.0760 & 11.0000 & 34.0000 &  0.9978 &  3.5100 &  0.5600 &  9.4000 &  5.0000 &  0.0000\\\\\n",
       "\\end{tabular}\n"
      ],
      "text/plain": [
       "  fixed.acidity volatile.acidity citric.acid residual.sugar chlorides\n",
       "1           7.4              0.7           0            1.9     0.076\n",
       "  free.sulfur.dioxide total.sulfur.dioxide density   pH sulphates alcohol\n",
       "1                  11                   34  0.9978 3.51      0.56     9.4\n",
       "  quality wine_attribute\n",
       "1       5              0"
      ]
     },
     "metadata": {},
     "output_type": "display_data"
    }
   ],
   "source": [
    "head(df1,1)"
   ]
  },
  {
   "cell_type": "code",
   "execution_count": 17,
   "metadata": {
    "collapsed": false
   },
   "outputs": [
    {
     "data": {
      "text/plain": [
       "\n",
       "Call:\n",
       "lm(formula = as.numeric(quality) ~ 0 + volatile.acidity + chlorides + \n",
       "    log(free.sulfur.dioxide) + log(total.sulfur.dioxide) + density + \n",
       "    pH + sulphates + alcohol, data = df1)\n",
       "\n",
       "Residuals:\n",
       "     Min       1Q   Median       3Q      Max \n",
       "-2.69097 -0.36206 -0.05359  0.46353  2.04733 \n",
       "\n",
       "Coefficients:\n",
       "                          Estimate Std. Error t value Pr(>|t|)    \n",
       "volatile.acidity          -1.02941    0.10066 -10.227  < 2e-16 ***\n",
       "chlorides                 -1.95204    0.39800  -4.905 1.03e-06 ***\n",
       "log(free.sulfur.dioxide)   0.12547    0.03931   3.192 0.001440 ** \n",
       "log(total.sulfur.dioxide) -0.17964    0.03895  -4.612 4.30e-06 ***\n",
       "density                    4.56599    0.41131  11.101  < 2e-16 ***\n",
       "pH                        -0.44665    0.11657  -3.832 0.000132 ***\n",
       "sulphates                  0.88106    0.11055   7.970 3.01e-15 ***\n",
       "alcohol                    0.29026    0.01697  17.101  < 2e-16 ***\n",
       "---\n",
       "Signif. codes:  0 '***' 0.001 '**' 0.01 '*' 0.05 '.' 0.1 ' ' 1\n",
       "\n",
       "Residual standard error: 0.649 on 1591 degrees of freedom\n",
       "Multiple R-squared:  0.9871,\tAdjusted R-squared:  0.987 \n",
       "F-statistic: 1.519e+04 on 8 and 1591 DF,  p-value: < 2.2e-16\n"
      ]
     },
     "metadata": {},
     "output_type": "display_data"
    }
   ],
   "source": [
    "model1 <- lm(as.numeric(quality)~ 0  + volatile.acidity + chlorides\n",
    "             + log(free.sulfur.dioxide) + log(total.sulfur.dioxide) + density + pH + sulphates + alcohol, data = df1)\n",
    "summary(model1)"
   ]
  },
  {
   "cell_type": "code",
   "execution_count": 18,
   "metadata": {
    "collapsed": true
   },
   "outputs": [],
   "source": [
    "df1.valid$prediction <- predict(model1,df1.valid)"
   ]
  },
  {
   "cell_type": "code",
   "execution_count": 19,
   "metadata": {
    "collapsed": true
   },
   "outputs": [],
   "source": [
    "df1.valid$prediction_lm <- round(df1.valid$prediction)"
   ]
  },
  {
   "cell_type": "code",
   "execution_count": 20,
   "metadata": {
    "collapsed": false
   },
   "outputs": [
    {
     "name": "stderr",
     "output_type": "stream",
     "text": [
      "Warning message in levels(reference) != levels(data):\n",
      "\"longer object length is not a multiple of shorter object length\"Warning message in confusionMatrix.default(df1.valid$prediction_lm, df1.valid$quality):\n",
      "\"Levels are not in the same order for reference and data. Refactoring data to match.\""
     ]
    },
    {
     "name": "stdout",
     "output_type": "stream",
     "text": [
      "                                                       Accuracy \n",
      "\"accuracy of linear model is :\"              \"60.9756097560976\" \n"
     ]
    }
   ],
   "source": [
    "x <- confusionMatrix(df1.valid$prediction_lm, df1.valid$quality)\n",
    "acc_lm <- x$overall[1]\n",
    "\n",
    "print(c(\"accuracy of linear model is :\", (acc_lm*100) ))"
   ]
  },
  {
   "cell_type": "code",
   "execution_count": 21,
   "metadata": {
    "collapsed": false
   },
   "outputs": [
    {
     "data": {},
     "metadata": {},
     "output_type": "display_data"
    },
    {
     "data": {
      "image/png": "[encoded data removed]",
      "text/plain": [
       "plot without title"
      ]
     },
     "metadata": {},
     "output_type": "display_data"
    }
   ],
   "source": [
    "ggplot(df1.valid) + geom_point(aes(pH, quality), color = \"red\") + geom_point(aes(pH, prediction)) "
   ]
  },
  {
   "cell_type": "markdown",
   "metadata": {},
   "source": [
    " From the above graph we see that this is not what we intended. Therefore we move on to classification models\n",
    "\n",
    "## Weighted KNN\n",
    "\n",
    "Using multiple K, distance metrics and kernels"
   ]
  },
  {
   "cell_type": "code",
   "execution_count": null,
   "metadata": {
    "collapsed": false,
    "scrolled": true
   },
   "outputs": [],
   "source": [
    "require(kknn)\n"
   ]
  },
  {
   "cell_type": "code",
   "execution_count": 23,
   "metadata": {
    "collapsed": false
   },
   "outputs": [
    {
     "data": {
      "text/plain": [
       "          Reference\n",
       "Prediction   0   1\n",
       "         0 173  68\n",
       "         1  74 218"
      ]
     },
     "metadata": {},
     "output_type": "display_data"
    },
    {
     "name": "stdout",
     "output_type": "stream",
     "text": [
      "[1] \"accuracy of KKNN is :\" \"73.358\"               \n"
     ]
    }
   ],
   "source": [
    "model2 <- kknn( factor(wine_attribute) ~ fixed.acidity + volatile.acidity + citric.acid + residual.sugar\n",
    "                 + chlorides + free.sulfur.dioxide + total.sulfur.dioxide + density + pH\n",
    "                 + sulphates + alcohol, df1.learn, df1.valid) \n",
    "x <- confusionMatrix(df1.valid$wine_attribute, model2$fit)\n",
    "y <- (x$table)\n",
    "y\n",
    "acc_kknn1 <- (y[1,1]+y[2,2]) / (y[1,1]+y[1,2]+y[2,2]+y[2,1])\n",
    "print(c(\"accuracy of KKNN is :\", round(acc_kknn1*100,3) ))"
   ]
  },
  {
   "cell_type": "code",
   "execution_count": 24,
   "metadata": {
    "collapsed": false
   },
   "outputs": [
    {
     "name": "stdout",
     "output_type": "stream",
     "text": [
      "\n",
      "Call:\n",
      "train.kknn(formula = factor(wine_attribute) ~ fixed.acidity +     volatile.acidity + citric.acid + residual.sugar + chlorides +     free.sulfur.dioxide + total.sulfur.dioxide + density + pH +     sulphates + alcohol, data = df1.learn, kmax = 15, distance = 1,     kernel = c(\"triangular\", \"epanechnikov\", \"biweight\", \"triweight\",         \"cos\", \"inv\", \"gaussian\", \"rank\", \"optimal\"), trControl = train_control)\n",
      "\n",
      "Type of response variable: nominal\n",
      "Minimal misclassification: 0.2045028\n",
      "Best kernel: inv\n",
      "Best k: 11\n"
     ]
    },
    {
     "data": {
      "text/plain": [
       "          Reference\n",
       "Prediction   0   1\n",
       "         0 186  63\n",
       "         1  55 229"
      ]
     },
     "metadata": {},
     "output_type": "display_data"
    },
    {
     "name": "stdout",
     "output_type": "stream",
     "text": [
      "[1] \"accuracy of KKNN is :\" \"77.861\"               \n"
     ]
    }
   ],
   "source": [
    "model3 <- train.kknn(factor(wine_attribute) ~ fixed.acidity + volatile.acidity + citric.acid + residual.sugar\n",
    "                 + chlorides + free.sulfur.dioxide + total.sulfur.dioxide + density + pH\n",
    "                 + sulphates + alcohol, df1.learn,trControl = train_control, kmax = 15, kernel = c(\"triangular\", \"epanechnikov\", \"biweight\", \"triweight\", \"cos\", \"inv\", \"gaussian\", \"rank\", \"optimal\"), distance = 1)\n",
    "summary(model3)\n",
    "\n",
    "x <- confusionMatrix(predict(model3, df1.valid), df1.valid$wine_attribute)\n",
    "y <- (x$table)\n",
    "y\n",
    "acc_kknn2 <- (y[1,1]+y[2,2]) / (y[1,1]+y[1,2]+y[2,2]+y[2,1])\n",
    "print(c(\"accuracy of KKNN is :\", round(acc_kknn2*100,3) ))"
   ]
  },
  {
   "cell_type": "code",
   "execution_count": 25,
   "metadata": {
    "collapsed": false
   },
   "outputs": [
    {
     "name": "stdout",
     "output_type": "stream",
     "text": [
      "\n",
      "Call:\n",
      "train.kknn(formula = factor(wine_attribute) ~ fixed.acidity +     volatile.acidity + citric.acid + residual.sugar + chlorides +     free.sulfur.dioxide + total.sulfur.dioxide + density + pH +     sulphates + alcohol, data = df1.learn, kmax = 15, distance = 5,     kernel = c(\"triangular\", \"epanechnikov\", \"biweight\", \"triweight\",         \"cos\", \"inv\", \"gaussian\", \"rank\", \"optimal\"), trControl = train_control)\n",
      "\n",
      "Type of response variable: nominal\n",
      "Minimal misclassification: 0.206379\n",
      "Best kernel: inv\n",
      "Best k: 13\n"
     ]
    },
    {
     "data": {
      "text/plain": [
       "          Reference\n",
       "Prediction   0   1\n",
       "         0 183  62\n",
       "         1  58 230"
      ]
     },
     "metadata": {},
     "output_type": "display_data"
    },
    {
     "name": "stdout",
     "output_type": "stream",
     "text": [
      "[1] \"accuracy of KKNN is :\" \"77.486\"               \n"
     ]
    }
   ],
   "source": [
    "model4 <- train.kknn(factor(wine_attribute) ~ fixed.acidity + volatile.acidity + citric.acid + residual.sugar\n",
    "                 + chlorides + free.sulfur.dioxide + total.sulfur.dioxide + density + pH\n",
    "                 + sulphates + alcohol, df1.learn,trControl = train_control, kmax = 15, kernel = c(\"triangular\", \"epanechnikov\", \"biweight\", \"triweight\", \"cos\", \"inv\", \"gaussian\", \"rank\", \"optimal\"), distance = 5)\n",
    "summary(model4)\n",
    "\n",
    "x <- confusionMatrix(predict(model4, df1.valid), df1.valid$wine_attribute)\n",
    "y <- (x$table)\n",
    "y\n",
    "acc_kknn3 <- (y[1,1]+y[2,2]) / (y[1,1]+y[1,2]+y[2,2]+y[2,1])\n",
    "print(c(\"accuracy of KKNN is :\", round(acc_kknn3*100,3) ))"
   ]
  },
  {
   "cell_type": "markdown",
   "metadata": {},
   "source": [
    "Weighted KKNN gave us decent results. Lets see if we can improve on it."
   ]
  },
  {
   "cell_type": "markdown",
   "metadata": {},
   "source": [
    "# Tree Models\n",
    "## Random Forest"
   ]
  },
  {
   "cell_type": "code",
   "execution_count": null,
   "metadata": {
    "collapsed": false
   },
   "outputs": [],
   "source": [
    "library(randomForest)"
   ]
  },
  {
   "cell_type": "code",
   "execution_count": 27,
   "metadata": {
    "collapsed": false
   },
   "outputs": [],
   "source": [
    "model5 <- randomForest(as.factor(wine_attribute) ~ fixed.acidity + volatile.acidity + citric.acid + residual.sugar\n",
    "                 + chlorides + free.sulfur.dioxide + total.sulfur.dioxide + density + pH\n",
    "                 + sulphates + alcohol, df1.learn,trControl = train_control,  importance=TRUE, ntree=2000)"
   ]
  },
  {
   "cell_type": "code",
   "execution_count": 28,
   "metadata": {
    "collapsed": false
   },
   "outputs": [],
   "source": [
    "df1.valid$prediction <- predict(model5, df1.valid)"
   ]
  },
  {
   "cell_type": "code",
   "execution_count": 29,
   "metadata": {
    "collapsed": false
   },
   "outputs": [
    {
     "data": {
      "text/plain": [
       "          Reference\n",
       "Prediction   0   1\n",
       "         0 207  63\n",
       "         1  34 229"
      ]
     },
     "metadata": {},
     "output_type": "display_data"
    },
    {
     "name": "stdout",
     "output_type": "stream",
     "text": [
      "[1] \"accuracy of Random Forest is :\" \"81.801\"                        \n"
     ]
    }
   ],
   "source": [
    "x <- confusionMatrix(df1.valid$prediction, df1.valid$wine_attribute)\n",
    "\n",
    "y <- (x$table)\n",
    "\n",
    "y\n",
    "\n",
    "acc_rf <- (y[1,1]+y[2,2]) / (y[1,1]+y[1,2]+y[2,2]+y[2,1])\n",
    "\n",
    "print(c(\"accuracy of Random Forest is :\", round(acc_rf*100,3) ))"
   ]
  },
  {
   "cell_type": "code",
   "execution_count": 30,
   "metadata": {
    "collapsed": false
   },
   "outputs": [
    {
     "data": {
      "text/html": [
       "<table>\n",
       "<thead><tr><th></th><th scope=col>0</th><th scope=col>1</th><th scope=col>MeanDecreaseAccuracy</th><th scope=col>MeanDecreaseGini</th></tr></thead>\n",
       "<tbody>\n",
       "\t<tr><th scope=row>fixed.acidity</th><td>31.90106</td><td>33.86908</td><td>50.21507</td><td>35.93648</td></tr>\n",
       "\t<tr><th scope=row>volatile.acidity</th><td>63.84695</td><td>56.40573</td><td>80.46705</td><td>65.09615</td></tr>\n",
       "\t<tr><th scope=row>citric.acid</th><td>28.61191</td><td>37.23768</td><td>48.25039</td><td>35.60501</td></tr>\n",
       "\t<tr><th scope=row>residual.sugar</th><td>31.18096</td><td>26.05024</td><td>40.36157</td><td>29.77151</td></tr>\n",
       "\t<tr><th scope=row>chlorides</th><td>37.72957</td><td>32.11711</td><td>49.22559</td><td>40.07284</td></tr>\n",
       "\t<tr><th scope=row>free.sulfur.dioxide</th><td>29.44250</td><td>28.93713</td><td>43.06980</td><td>30.88425</td></tr>\n",
       "\t<tr><th scope=row>total.sulfur.dioxide</th><td>49.63323</td><td>58.42615</td><td>75.73582</td><td>51.31756</td></tr>\n",
       "\t<tr><th scope=row>density</th><td>33.03413</td><td>46.89306</td><td>59.01841</td><td>47.66339</td></tr>\n",
       "\t<tr><th scope=row>pH</th><td>28.48902</td><td>35.41322</td><td>47.76168</td><td>35.05043</td></tr>\n",
       "\t<tr><th scope=row>sulphates</th><td> 73.95690</td><td> 80.78702</td><td>101.08121</td><td> 70.75412</td></tr>\n",
       "\t<tr><th scope=row>alcohol</th><td> 86.64294</td><td> 79.90611</td><td>109.53888</td><td> 88.66694</td></tr>\n",
       "</tbody>\n",
       "</table>\n"
      ],
      "text/latex": [
       "\\begin{tabular}{r|llll}\n",
       "  & 0 & 1 & MeanDecreaseAccuracy & MeanDecreaseGini\\\\\n",
       "\\hline\n",
       "\tfixed.acidity & 31.90106 & 33.86908 & 50.21507 & 35.93648\\\\\n",
       "\tvolatile.acidity & 63.84695 & 56.40573 & 80.46705 & 65.09615\\\\\n",
       "\tcitric.acid & 28.61191 & 37.23768 & 48.25039 & 35.60501\\\\\n",
       "\tresidual.sugar & 31.18096 & 26.05024 & 40.36157 & 29.77151\\\\\n",
       "\tchlorides & 37.72957 & 32.11711 & 49.22559 & 40.07284\\\\\n",
       "\tfree.sulfur.dioxide & 29.44250 & 28.93713 & 43.06980 & 30.88425\\\\\n",
       "\ttotal.sulfur.dioxide & 49.63323 & 58.42615 & 75.73582 & 51.31756\\\\\n",
       "\tdensity & 33.03413 & 46.89306 & 59.01841 & 47.66339\\\\\n",
       "\tpH & 28.48902 & 35.41322 & 47.76168 & 35.05043\\\\\n",
       "\tsulphates &  73.95690 &  80.78702 & 101.08121 &  70.75412\\\\\n",
       "\talcohol &  86.64294 &  79.90611 & 109.53888 &  88.66694\\\\\n",
       "\\end{tabular}\n"
      ],
      "text/markdown": [
       "1. 31.9010561576265\n",
       "2. 63.846952216242\n",
       "3. 28.6119112069865\n",
       "4. 31.1809588400883\n",
       "5. 37.7295708116994\n",
       "6. 29.4424954696018\n",
       "7. 49.6332292608226\n",
       "8. 33.0341315418772\n",
       "9. 28.4890248513571\n",
       "10. 73.9568964303964\n",
       "11. 86.6429373613684\n",
       "12. 33.8690829640542\n",
       "13. 56.4057264814847\n",
       "14. 37.2376773301946\n",
       "15. 26.0502423989345\n",
       "16. 32.117108796943\n",
       "17. 28.9371330469543\n",
       "18. 58.4261469418815\n",
       "19. 46.8930630620036\n",
       "20. 35.4132193084599\n",
       "21. 80.7870213733065\n",
       "22. 79.9061068818356\n",
       "23. 50.2150662968452\n",
       "24. 80.4670469141169\n",
       "25. 48.2503896153417\n",
       "26. 40.3615688743303\n",
       "27. 49.2255940174619\n",
       "28. 43.0698034715503\n",
       "29. 75.7358224021617\n",
       "30. 59.018407197241\n",
       "31. 47.761681269122\n",
       "32. 101.081208540148\n",
       "33. 109.538881446216\n",
       "34. 35.9364848413753\n",
       "35. 65.096152710888\n",
       "36. 35.6050100644066\n",
       "37. 29.7715056184138\n",
       "38. 40.0728447102986\n",
       "39. 30.88424579267\n",
       "40. 51.3175640993023\n",
       "41. 47.6633911322667\n",
       "42. 35.0504340314927\n",
       "43. 70.7541212307998\n",
       "44. 88.6669387324392\n",
       "\n",
       "\n"
      ],
      "text/plain": [
       "                            0        1 MeanDecreaseAccuracy MeanDecreaseGini\n",
       "fixed.acidity        31.90106 33.86908             50.21507         35.93648\n",
       "volatile.acidity     63.84695 56.40573             80.46705         65.09615\n",
       "citric.acid          28.61191 37.23768             48.25039         35.60501\n",
       "residual.sugar       31.18096 26.05024             40.36157         29.77151\n",
       "chlorides            37.72957 32.11711             49.22559         40.07284\n",
       "free.sulfur.dioxide  29.44250 28.93713             43.06980         30.88425\n",
       "total.sulfur.dioxide 49.63323 58.42615             75.73582         51.31756\n",
       "density              33.03413 46.89306             59.01841         47.66339\n",
       "pH                   28.48902 35.41322             47.76168         35.05043\n",
       "sulphates            73.95690 80.78702            101.08121         70.75412\n",
       "alcohol              86.64294 79.90611            109.53888         88.66694"
      ]
     },
     "metadata": {},
     "output_type": "display_data"
    }
   ],
   "source": [
    "importance(model5)"
   ]
  },
  {
   "cell_type": "code",
   "execution_count": 31,
   "metadata": {
    "collapsed": false
   },
   "outputs": [
    {
     "data": {
      "image/png": "[encoded data removed]",
      "text/plain": [
       "plot without title"
      ]
     },
     "metadata": {},
     "output_type": "display_data"
    }
   ],
   "source": [
    "varImpPlot(model5) # importance of each variable"
   ]
  },
  {
   "cell_type": "markdown",
   "metadata": {},
   "source": [
    "## Ensembling Random Forest with the Conditional Inference Tree"
   ]
  },
  {
   "cell_type": "code",
   "execution_count": null,
   "metadata": {
    "collapsed": false,
    "scrolled": true
   },
   "outputs": [],
   "source": [
    "library(party)"
   ]
  },
  {
   "cell_type": "code",
   "execution_count": 33,
   "metadata": {
    "collapsed": false
   },
   "outputs": [],
   "source": [
    "model5x <- cforest(as.factor(wine_attribute) ~ fixed.acidity + volatile.acidity + citric.acid + residual.sugar\n",
    "                 + chlorides + free.sulfur.dioxide + total.sulfur.dioxide + density + pH\n",
    "                 + sulphates + alcohol, df1.learn, controls=cforest_unbiased(ntree=2000, mtry=3))\n",
    "\n"
   ]
  },
  {
   "cell_type": "code",
   "execution_count": 34,
   "metadata": {
    "collapsed": true
   },
   "outputs": [],
   "source": [
    "df1.valid$pred_cforest <- predict(model5x, df1.valid, OOB=TRUE, type = \"response\")"
   ]
  },
  {
   "cell_type": "code",
   "execution_count": 35,
   "metadata": {
    "collapsed": false
   },
   "outputs": [
    {
     "data": {
      "text/plain": [
       "          Reference\n",
       "Prediction   0   1\n",
       "         0 194  68\n",
       "         1  47 224"
      ]
     },
     "metadata": {},
     "output_type": "display_data"
    },
    {
     "name": "stdout",
     "output_type": "stream",
     "text": [
      "[1] \"accuracy of Conditional Forest is :\" \"78.424\"                             \n"
     ]
    }
   ],
   "source": [
    "x <- confusionMatrix(df1.valid$pred_cforest, df1.valid$wine_attribute)\n",
    "\n",
    "y <- (x$table)\n",
    "\n",
    "y\n",
    "\n",
    "acc_cf <- (y[1,1]+y[2,2]) / (y[1,1]+y[1,2]+y[2,2]+y[2,1])\n",
    "\n",
    "print(c(\"accuracy of Conditional Forest is :\", round(acc_cf*100,3) ))"
   ]
  },
  {
   "cell_type": "markdown",
   "metadata": {},
   "source": [
    "## Decision Trees using Rpart"
   ]
  },
  {
   "cell_type": "code",
   "execution_count": null,
   "metadata": {
    "collapsed": false,
    "scrolled": true
   },
   "outputs": [],
   "source": [
    "library(rattle)\n",
    "library(rpart.plot)\n",
    "library(RColorBrewer)\n",
    "library(rpart)"
   ]
  },
  {
   "cell_type": "code",
   "execution_count": 37,
   "metadata": {
    "collapsed": false
   },
   "outputs": [],
   "source": [
    "rpart.grid <- expand.grid(.cp=0.2)\n",
    "\n",
    "model6 <- train(as.factor(wine_attribute) ~ fixed.acidity + volatile.acidity + citric.acid + residual.sugar\n",
    "                 + chlorides + free.sulfur.dioxide + total.sulfur.dioxide + density + pH\n",
    "                 + sulphates + alcohol, df1.learn,   method=\"rpart\",trControl = train_control,tuneGrid=rpart.grid)"
   ]
  },
  {
   "cell_type": "code",
   "execution_count": 38,
   "metadata": {
    "collapsed": false
   },
   "outputs": [
    {
     "data": {
      "image/png": "[encoded data removed]",
      "text/plain": [
       "Plot with title \"\""
      ]
     },
     "metadata": {},
     "output_type": "display_data"
    }
   ],
   "source": [
    "# How one of these trees look like\n",
    "\n",
    "model6s <- rpart(as.factor(wine_attribute) ~ fixed.acidity + volatile.acidity + citric.acid + residual.sugar\n",
    "                 + chlorides + free.sulfur.dioxide + total.sulfur.dioxide + density + pH\n",
    "                 + sulphates + alcohol, df1.learn,  method = \"class\")\n",
    "\n",
    "fancyRpartPlot(model6s)"
   ]
  },
  {
   "cell_type": "code",
   "execution_count": 39,
   "metadata": {
    "collapsed": false
   },
   "outputs": [],
   "source": [
    "df1.valid$pred_dtree <- predict(model6, df1.valid)"
   ]
  },
  {
   "cell_type": "code",
   "execution_count": 40,
   "metadata": {
    "collapsed": false
   },
   "outputs": [
    {
     "data": {
      "text/plain": [
       "          Reference\n",
       "Prediction   0   1\n",
       "         0 199 122\n",
       "         1  42 170"
      ]
     },
     "metadata": {},
     "output_type": "display_data"
    },
    {
     "name": "stdout",
     "output_type": "stream",
     "text": [
      "[1] \"accuracy of Decision Tree classifier is :\"\n",
      "[2] \"69.231\"                                   \n"
     ]
    }
   ],
   "source": [
    "x <- confusionMatrix(df1.valid$pred_dtree, df1.valid$wine_attribute)\n",
    "\n",
    "y <- (x$table)\n",
    "\n",
    "y\n",
    "\n",
    "acc_dt <- (y[1,1]+y[2,2]) / (y[1,1]+y[1,2]+y[2,2]+y[2,1])\n",
    "\n",
    "print(c(\"accuracy of Decision Tree classifier is :\", round(acc_dt*100,3) ))"
   ]
  },
  {
   "cell_type": "markdown",
   "metadata": {},
   "source": [
    "## 5. Modeling Results Table"
   ]
  },
  {
   "cell_type": "code",
   "execution_count": 41,
   "metadata": {
    "collapsed": false
   },
   "outputs": [],
   "source": [
    "Model_Name <- c(\"Linear Model\", \"Simple_KKNN\",\"KKNN_dist1\",\"KKNN_dist2\", \"RandomForest\", \"Conditional Forest\", \"Decision Tree\")\n",
    "Overall_Accuracy <- c(acc_lm*100, acc_kknn1*100, acc_kknn2*100, acc_kknn3*100, acc_rf*100, acc_cf*100, acc_dt*100)\n",
    "\n",
    "final <- data.frame(Model_Name,Overall_Accuracy)\n",
    "\n",
    "final$Overall_Accuracy <-  round( final$Overall_Accuracy, 3)"
   ]
  },
  {
   "cell_type": "code",
   "execution_count": 42,
   "metadata": {
    "collapsed": false
   },
   "outputs": [
    {
     "data": {
      "text/html": [
       "<table>\n",
       "<thead><tr><th></th><th scope=col>Model_Name</th><th scope=col>Overall_Accuracy</th></tr></thead>\n",
       "<tbody>\n",
       "\t<tr><th scope=row>1</th><td>Linear Model</td><td>60.976      </td></tr>\n",
       "\t<tr><th scope=row>2</th><td>Simple_KKNN</td><td>73.358     </td></tr>\n",
       "\t<tr><th scope=row>3</th><td>KKNN_dist1</td><td>77.861    </td></tr>\n",
       "\t<tr><th scope=row>4</th><td>KKNN_dist2</td><td>77.486    </td></tr>\n",
       "\t<tr><th scope=row>5</th><td>RandomForest</td><td>81.801      </td></tr>\n",
       "\t<tr><th scope=row>6</th><td>Conditional Forest</td><td>78.424            </td></tr>\n",
       "\t<tr><th scope=row>7</th><td>Decision Tree</td><td>69.231       </td></tr>\n",
       "</tbody>\n",
       "</table>\n"
      ],
      "text/latex": [
       "\\begin{tabular}{r|ll}\n",
       "  & Model\\_Name & Overall\\_Accuracy\\\\\n",
       "\\hline\n",
       "\t1 & Linear Model & 60.976      \\\\\n",
       "\t2 & Simple\\_KKNN & 73.358       \\\\\n",
       "\t3 & KKNN\\_dist1 & 77.861      \\\\\n",
       "\t4 & KKNN\\_dist2 & 77.486      \\\\\n",
       "\t5 & RandomForest & 81.801      \\\\\n",
       "\t6 & Conditional Forest & 78.424            \\\\\n",
       "\t7 & Decision Tree & 69.231       \\\\\n",
       "\\end{tabular}\n"
      ],
      "text/plain": [
       "          Model_Name Overall_Accuracy\n",
       "1       Linear Model           60.976\n",
       "2        Simple_KKNN           73.358\n",
       "3         KKNN_dist1           77.861\n",
       "4         KKNN_dist2           77.486\n",
       "5       RandomForest           81.801\n",
       "6 Conditional Forest           78.424\n",
       "7      Decision Tree           69.231"
      ]
     },
     "metadata": {},
     "output_type": "display_data"
    }
   ],
   "source": [
    "final"
   ]
  },
  {
   "cell_type": "markdown",
   "metadata": {},
   "source": [
    "## 6. Conclusion \n",
    "\n",
    "### The linear model gives a very high R Squared value(0.987) but it is nowhere close to the values we need as seen from the graph. The accuracy of the linear model is very low.\n",
    "### Random Forest gives an overall best accuracy. \n",
    "### The models will give better results had the wine been split into 3 categories instead of two. This is largely because wines of quality 5 and 6 dominate the dataset.\n",
    "\n",
    "### The reason for using the different algorithms :\n",
    "- Linear Regression : Most widely used model in many real world applications. Though quality is a discrete variable, I wanted to see how the Linear Model stacks up against classifiers.\n",
    "- KKNN : The weighted KNN has an advantage over the standard KNN as it takes into account kernel densities.\n",
    "- Tree Models: The Random Forest is a great classifier overall and its robust enough to be used in the stock condition. Decision tree forms the most basic tree based classifier and its also easy to visualize.\n",
    "- The Conditional Inference forest ensembles a randomForest but uses the Conditional Inference Tree as its estimator. However, it is not easy to run a 10-fold cross validation on this model.\n"
   ]
  }
 ],
 "metadata": {
  "anaconda-cloud": {},
  "kernelspec": {
   "display_name": "R",
   "language": "R",
   "name": "ir"
  },
  "language_info": {
   "codemirror_mode": "r",
   "file_extension": ".r",
   "mimetype": "text/x-r-source",
   "name": "R",
   "pygments_lexer": "r",
   "version": "3.3.1"
  }
 },
 "nbformat": 4,
 "nbformat_minor": 1
}
